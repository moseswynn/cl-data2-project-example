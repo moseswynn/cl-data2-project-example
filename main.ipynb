{
 "cells": [
  {
   "cell_type": "code",
   "execution_count": null,
   "metadata": {},
   "outputs": [],
   "source": []
  }
 ],
 "metadata": {
  "kernelspec": {
   "display_name": "Python 3.10.6 64-bit ('stockx-prices-cGBXB46m-py3.10')",
   "language": "python",
   "name": "python3"
  },
  "language_info": {
   "name": "python",
   "version": "3.10.6"
  },
  "orig_nbformat": 4,
  "vscode": {
   "interpreter": {
    "hash": "4005f9006e28558cc73a19cfba1abe05067adc80b5c089894d2d5a3215b94cd6"
   }
  }
 },
 "nbformat": 4,
 "nbformat_minor": 2
}
